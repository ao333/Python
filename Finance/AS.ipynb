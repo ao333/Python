{
 "cells": [
  {
   "cell_type": "code",
   "execution_count": 2,
   "metadata": {
    "scrolled": true
   },
   "outputs": [
    {
     "name": "stdout",
     "output_type": "stream",
     "text": [
      "IPO 1997-05-15 CR 25.686315496098103 SD 0.023100039742952442 SR 0.9973134088083786\n"
     ]
    }
   ],
   "source": [
    "import numpy as np\n",
    "import pandas as pd\n",
    "from datetime import date\n",
    "\n",
    "df = pd.read_csv(\"https://www.alphavantage.co/query?function=TIME_SERIES_DAILY_ADJUSTED&symbol=AMZN&apikey=7V4FCTJVHVEY9FH5&outputsize=full&datatype=csv\",\n",
    "                 index_col='timestamp', usecols=['timestamp','adjusted_close'])\n",
    "df = df[df['adjusted_close'] > 0]\n",
    "\n",
    "today = date.today()\n",
    "past = date(today.year-10, today.month, today.day)\n",
    "price = df['adjusted_close'][today.strftime(\"%Y-%m-%d\"):past.strftime(\"%Y-%m-%d\")]\n",
    "\n",
    "cr = (price[0]/price[-1]) - 1\n",
    "pct = price.pct_change(-1)\n",
    "sd = pct.std()\n",
    "rfr = (1+0.03)**(1/252)-1\n",
    "sr = np.sqrt(252) * ((pct.mean()-rfr)/sd)\n",
    "print(\"IPO {} CR {} SD {} SR {}\".format(df.index[-1],cr,sd,sr))"
   ]
  },
  {
   "cell_type": "code",
   "execution_count": 3,
   "metadata": {},
   "outputs": [
    {
     "ename": "ValueError",
     "evalue": "Usecols do not match names.",
     "traceback": [
      "\u001b[1;31m---------------------------------------------------------------------------\u001b[0m",
      "\u001b[1;31mValueError\u001b[0m                                Traceback (most recent call last)",
      "\u001b[1;32m<ipython-input-3-80bbc0533b44>\u001b[0m in \u001b[0;36m<module>\u001b[1;34m()\u001b[0m\n\u001b[0;32m      4\u001b[0m \u001b[1;32mfor\u001b[0m \u001b[0mticker\u001b[0m \u001b[1;32min\u001b[0m \u001b[0mtickers\u001b[0m\u001b[1;33m:\u001b[0m\u001b[1;33m\u001b[0m\u001b[0m\n\u001b[0;32m      5\u001b[0m     df = pd.read_csv(\"https://www.alphavantage.co/query?function=TIME_SERIES_DAILY_ADJUSTED&symbol=%s&apikey=7V4FCTJVHVEY9FH5&outputsize=full&datatype=csv\"%(ticker),\n\u001b[1;32m----> 6\u001b[1;33m                      index_col='timestamp', usecols=['timestamp','adjusted_close'])\n\u001b[0m\u001b[0;32m      7\u001b[0m     \u001b[0mdf\u001b[0m \u001b[1;33m=\u001b[0m \u001b[0mdf\u001b[0m\u001b[1;33m[\u001b[0m\u001b[0mdf\u001b[0m\u001b[1;33m[\u001b[0m\u001b[1;34m'adjusted_close'\u001b[0m\u001b[1;33m]\u001b[0m \u001b[1;33m>\u001b[0m \u001b[1;36m0\u001b[0m\u001b[1;33m]\u001b[0m\u001b[1;33m\u001b[0m\u001b[0m\n\u001b[0;32m      8\u001b[0m     \u001b[0mprice\u001b[0m \u001b[1;33m=\u001b[0m \u001b[0mdf\u001b[0m\u001b[1;33m[\u001b[0m\u001b[1;34m'adjusted_close'\u001b[0m\u001b[1;33m]\u001b[0m\u001b[1;33m[\u001b[0m\u001b[0mtoday\u001b[0m\u001b[1;33m.\u001b[0m\u001b[0mstrftime\u001b[0m\u001b[1;33m(\u001b[0m\u001b[1;34m\"%Y-%m-%d\"\u001b[0m\u001b[1;33m)\u001b[0m\u001b[1;33m:\u001b[0m\u001b[0mpast\u001b[0m\u001b[1;33m.\u001b[0m\u001b[0mstrftime\u001b[0m\u001b[1;33m(\u001b[0m\u001b[1;34m\"%Y-%m-%d\"\u001b[0m\u001b[1;33m)\u001b[0m\u001b[1;33m]\u001b[0m\u001b[1;33m\u001b[0m\u001b[0m\n",
      "\u001b[1;32mC:\\Anaconda3\\lib\\site-packages\\pandas\\io\\parsers.py\u001b[0m in \u001b[0;36mparser_f\u001b[1;34m(filepath_or_buffer, sep, delimiter, header, names, index_col, usecols, squeeze, prefix, mangle_dupe_cols, dtype, engine, converters, true_values, false_values, skipinitialspace, skiprows, nrows, na_values, keep_default_na, na_filter, verbose, skip_blank_lines, parse_dates, infer_datetime_format, keep_date_col, date_parser, dayfirst, iterator, chunksize, compression, thousands, decimal, lineterminator, quotechar, quoting, escapechar, comment, encoding, dialect, tupleize_cols, error_bad_lines, warn_bad_lines, skipfooter, skip_footer, doublequote, delim_whitespace, as_recarray, compact_ints, use_unsigned, low_memory, buffer_lines, memory_map, float_precision)\u001b[0m\n\u001b[0;32m    707\u001b[0m                     skip_blank_lines=skip_blank_lines)\n\u001b[0;32m    708\u001b[0m \u001b[1;33m\u001b[0m\u001b[0m\n\u001b[1;32m--> 709\u001b[1;33m         \u001b[1;32mreturn\u001b[0m \u001b[0m_read\u001b[0m\u001b[1;33m(\u001b[0m\u001b[0mfilepath_or_buffer\u001b[0m\u001b[1;33m,\u001b[0m \u001b[0mkwds\u001b[0m\u001b[1;33m)\u001b[0m\u001b[1;33m\u001b[0m\u001b[0m\n\u001b[0m\u001b[0;32m    710\u001b[0m \u001b[1;33m\u001b[0m\u001b[0m\n\u001b[0;32m    711\u001b[0m     \u001b[0mparser_f\u001b[0m\u001b[1;33m.\u001b[0m\u001b[0m__name__\u001b[0m \u001b[1;33m=\u001b[0m \u001b[0mname\u001b[0m\u001b[1;33m\u001b[0m\u001b[0m\n",
      "\u001b[1;32mC:\\Anaconda3\\lib\\site-packages\\pandas\\io\\parsers.py\u001b[0m in \u001b[0;36m_read\u001b[1;34m(filepath_or_buffer, kwds)\u001b[0m\n\u001b[0;32m    447\u001b[0m \u001b[1;33m\u001b[0m\u001b[0m\n\u001b[0;32m    448\u001b[0m     \u001b[1;31m# Create the parser.\u001b[0m\u001b[1;33m\u001b[0m\u001b[1;33m\u001b[0m\u001b[0m\n\u001b[1;32m--> 449\u001b[1;33m     \u001b[0mparser\u001b[0m \u001b[1;33m=\u001b[0m \u001b[0mTextFileReader\u001b[0m\u001b[1;33m(\u001b[0m\u001b[0mfilepath_or_buffer\u001b[0m\u001b[1;33m,\u001b[0m \u001b[1;33m**\u001b[0m\u001b[0mkwds\u001b[0m\u001b[1;33m)\u001b[0m\u001b[1;33m\u001b[0m\u001b[0m\n\u001b[0m\u001b[0;32m    450\u001b[0m \u001b[1;33m\u001b[0m\u001b[0m\n\u001b[0;32m    451\u001b[0m     \u001b[1;32mif\u001b[0m \u001b[0mchunksize\u001b[0m \u001b[1;32mor\u001b[0m \u001b[0miterator\u001b[0m\u001b[1;33m:\u001b[0m\u001b[1;33m\u001b[0m\u001b[0m\n",
      "\u001b[1;32mC:\\Anaconda3\\lib\\site-packages\\pandas\\io\\parsers.py\u001b[0m in \u001b[0;36m__init__\u001b[1;34m(self, f, engine, **kwds)\u001b[0m\n\u001b[0;32m    816\u001b[0m             \u001b[0mself\u001b[0m\u001b[1;33m.\u001b[0m\u001b[0moptions\u001b[0m\u001b[1;33m[\u001b[0m\u001b[1;34m'has_index_names'\u001b[0m\u001b[1;33m]\u001b[0m \u001b[1;33m=\u001b[0m \u001b[0mkwds\u001b[0m\u001b[1;33m[\u001b[0m\u001b[1;34m'has_index_names'\u001b[0m\u001b[1;33m]\u001b[0m\u001b[1;33m\u001b[0m\u001b[0m\n\u001b[0;32m    817\u001b[0m \u001b[1;33m\u001b[0m\u001b[0m\n\u001b[1;32m--> 818\u001b[1;33m         \u001b[0mself\u001b[0m\u001b[1;33m.\u001b[0m\u001b[0m_make_engine\u001b[0m\u001b[1;33m(\u001b[0m\u001b[0mself\u001b[0m\u001b[1;33m.\u001b[0m\u001b[0mengine\u001b[0m\u001b[1;33m)\u001b[0m\u001b[1;33m\u001b[0m\u001b[0m\n\u001b[0m\u001b[0;32m    819\u001b[0m \u001b[1;33m\u001b[0m\u001b[0m\n\u001b[0;32m    820\u001b[0m     \u001b[1;32mdef\u001b[0m \u001b[0mclose\u001b[0m\u001b[1;33m(\u001b[0m\u001b[0mself\u001b[0m\u001b[1;33m)\u001b[0m\u001b[1;33m:\u001b[0m\u001b[1;33m\u001b[0m\u001b[0m\n",
      "\u001b[1;32mC:\\Anaconda3\\lib\\site-packages\\pandas\\io\\parsers.py\u001b[0m in \u001b[0;36m_make_engine\u001b[1;34m(self, engine)\u001b[0m\n\u001b[0;32m   1047\u001b[0m     \u001b[1;32mdef\u001b[0m \u001b[0m_make_engine\u001b[0m\u001b[1;33m(\u001b[0m\u001b[0mself\u001b[0m\u001b[1;33m,\u001b[0m \u001b[0mengine\u001b[0m\u001b[1;33m=\u001b[0m\u001b[1;34m'c'\u001b[0m\u001b[1;33m)\u001b[0m\u001b[1;33m:\u001b[0m\u001b[1;33m\u001b[0m\u001b[0m\n\u001b[0;32m   1048\u001b[0m         \u001b[1;32mif\u001b[0m \u001b[0mengine\u001b[0m \u001b[1;33m==\u001b[0m \u001b[1;34m'c'\u001b[0m\u001b[1;33m:\u001b[0m\u001b[1;33m\u001b[0m\u001b[0m\n\u001b[1;32m-> 1049\u001b[1;33m             \u001b[0mself\u001b[0m\u001b[1;33m.\u001b[0m\u001b[0m_engine\u001b[0m \u001b[1;33m=\u001b[0m \u001b[0mCParserWrapper\u001b[0m\u001b[1;33m(\u001b[0m\u001b[0mself\u001b[0m\u001b[1;33m.\u001b[0m\u001b[0mf\u001b[0m\u001b[1;33m,\u001b[0m \u001b[1;33m**\u001b[0m\u001b[0mself\u001b[0m\u001b[1;33m.\u001b[0m\u001b[0moptions\u001b[0m\u001b[1;33m)\u001b[0m\u001b[1;33m\u001b[0m\u001b[0m\n\u001b[0m\u001b[0;32m   1050\u001b[0m         \u001b[1;32melse\u001b[0m\u001b[1;33m:\u001b[0m\u001b[1;33m\u001b[0m\u001b[0m\n\u001b[0;32m   1051\u001b[0m             \u001b[1;32mif\u001b[0m \u001b[0mengine\u001b[0m \u001b[1;33m==\u001b[0m \u001b[1;34m'python'\u001b[0m\u001b[1;33m:\u001b[0m\u001b[1;33m\u001b[0m\u001b[0m\n",
      "\u001b[1;32mC:\\Anaconda3\\lib\\site-packages\\pandas\\io\\parsers.py\u001b[0m in \u001b[0;36m__init__\u001b[1;34m(self, src, **kwds)\u001b[0m\n\u001b[0;32m   1738\u001b[0m             if (self.usecols_dtype == 'string' and\n\u001b[0;32m   1739\u001b[0m                     not set(usecols).issubset(self.orig_names)):\n\u001b[1;32m-> 1740\u001b[1;33m                 \u001b[1;32mraise\u001b[0m \u001b[0mValueError\u001b[0m\u001b[1;33m(\u001b[0m\u001b[1;34m\"Usecols do not match names.\"\u001b[0m\u001b[1;33m)\u001b[0m\u001b[1;33m\u001b[0m\u001b[0m\n\u001b[0m\u001b[0;32m   1741\u001b[0m \u001b[1;33m\u001b[0m\u001b[0m\n\u001b[0;32m   1742\u001b[0m             \u001b[1;32mif\u001b[0m \u001b[0mlen\u001b[0m\u001b[1;33m(\u001b[0m\u001b[0mself\u001b[0m\u001b[1;33m.\u001b[0m\u001b[0mnames\u001b[0m\u001b[1;33m)\u001b[0m \u001b[1;33m>\u001b[0m \u001b[0mlen\u001b[0m\u001b[1;33m(\u001b[0m\u001b[0musecols\u001b[0m\u001b[1;33m)\u001b[0m\u001b[1;33m:\u001b[0m\u001b[1;33m\u001b[0m\u001b[0m\n",
      "\u001b[1;31mValueError\u001b[0m: Usecols do not match names."
     ],
     "output_type": "error"
    }
   ],
   "source": [
    "tickers = [\"csu.to\",\"byd-un.to\",\"nflx\",\"rost\",\"0700.hk\",\"ccl-b.to\"]\n",
    "table = pd.DataFrame(index=tickers, columns=['IPO','CR','SD','SR'])\n",
    "\n",
    "for ticker in tickers:\n",
    "    df = pd.read_csv(\"https://www.alphavantage.co/query?function=TIME_SERIES_DAILY_ADJUSTED&symbol=%s&apikey=7V4FCTJVHVEY9FH5&outputsize=full&datatype=csv\"%(ticker),\n",
    "                     index_col='timestamp', usecols=['timestamp','adjusted_close'])\n",
    "    df = df[df['adjusted_close'] > 0]\n",
    "    price = df['adjusted_close'][today.strftime(\"%Y-%m-%d\"):past.strftime(\"%Y-%m-%d\")]\n",
    "    \n",
    "    cr = (price[0]/price[-1]) - 1\n",
    "    pct = price.pct_change(-1)\n",
    "    sd = pct.std()\n",
    "    rfr = (1+0.03)**(1/252)-1\n",
    "    sr = np.sqrt(252) * ((pct.mean()-rfr)/sd)\n",
    "    \n",
    "    table.loc[ticker] = [df.index[-1],cr,sd,sr]\n",
    "\n",
    "table.sort_values('SR')\n",
    "table"
   ]
  },
  {
   "cell_type": "code",
   "execution_count": null,
   "metadata": {},
   "outputs": [],
   "source": [
    "# import urllib.request\n",
    "\n",
    "# ticker = \"QQQ\"\n",
    "# url_string = \"https://www.alphavantage.co/query?function=TIME_SERIES_DAILY&symbol=%s&outputsize=full&apikey=7V4FCTJVHVEY9FH5\"%(ticker)\n",
    "# save = '%s.csv'%ticker  # Save data to this file\n",
    "\n",
    "# # If you haven't already saved data, grab the data from the url\n",
    "# if not os.path.exists(save):\n",
    "#     with urllib.request.urlopen(url_string) as url:\n",
    "#         data = json.loads(url.read().decode())\n",
    "#         data = data['Time Series (Daily)']  # extract stock market data\n",
    "#         # And store date, low, high, volume, close, open values to a Pandas dataframe\n",
    "#         df = pd.DataFrame(columns=['Date','Low','High','Close','Open'])\n",
    "#         for k,v in data.items():\n",
    "#             date = dt.datetime.strptime(k, '%Y-%m-%d')\n",
    "#             data_row = [date.date(),float(v['3. low']),float(v['2. high']), float(v['4. close']),float(v['1. open'])]\n",
    "#             df.loc[-1,:] = data_row\n",
    "#             df.index = df.index + 1\n",
    "#     print('Data saved to : %s'%file_to_save)\n",
    "#     df.to_csv(file_to_save)\n",
    "# else:  # If data aready exists, just load from the CSV\n",
    "#     print('File already exists. Loading data from CSV')\n",
    "#     df = pd.read_csv(file_to_save)"
   ]
  },
  {
   "cell_type": "code",
   "execution_count": null,
   "metadata": {},
   "outputs": [],
   "source": [
    "import matplotlib.pyplot as plt\n",
    "\n",
    "window = 252\n",
    "\n",
    "rolling_max = price.rolling(window, min_periods=1).max()\n",
    "daily_drawdown = price/rolling_max - 1.0\n",
    "max_daily_drawdown = daily_drawdown.rolling(window, min_periods=1).min()\n",
    "\n",
    "drawdown = plt.figure(figsize=(15,8))\n",
    "plt.plot(daily_drawdown)\n",
    "plt.plot(max_daily_drawdown)\n",
    "drawdown.suptitle('Anticipated Maximum Daily Drawdown')\n",
    "plt.xlabel('Date')\n",
    "plt.ylabel('Drawdown Losses in %')\n",
    "plt.legend(['Actual Daily Drawdown', 'Anticipated Maximum Daily Drawdown'], loc='lower left')\n",
    "plt.locator_params(nbins=10, axis='x')"
   ]
  },
  {
   "cell_type": "code",
   "execution_count": null,
   "metadata": {},
   "outputs": [],
   "source": [
    "cumsum = pct.cumsum()\n",
    "start = np.argmax(np.maximum.accumulate(cumsum) - cumsum)\n",
    "end = np.argmax(cumsum[:start])\n",
    "MDP = price[end]/price[start]-1\n",
    "\n",
    "MD = plt.figure(figsize=(15,8))\n",
    "plt.plot(cumsum)\n",
    "plt.xlabel('Date')\n",
    "plt.ylabel('Normalized Price')\n",
    "plt.plot([start, end], [cumsum[start], cumsum[end]], 'o', color='Red', markersize=10)\n",
    "plt.gca().invert_yaxis()\n",
    "plt.locator_params(nbins=10, axis='x')\n",
    "\n",
    "print (\"Max Drawdown of {} Occured Between {} and {}\".format(HDP,start,end))"
   ]
  },
  {
   "cell_type": "code",
   "execution_count": null,
   "metadata": {},
   "outputs": [],
   "source": [
    "price = df[\"2018-09-04\":\"2007-10-25\"]\n",
    "pct = price.pct_change()\n",
    "\n",
    "pd.plotting.scatter_matrix(pct, diagonal='kde', alpha=0.1,figsize=(12,12))\n",
    "pct.hist(bins=50, sharex=True, figsize=(12,8))\n",
    "pct.describe()"
   ]
  },
  {
   "cell_type": "code",
   "execution_count": null,
   "metadata": {},
   "outputs": [],
   "source": [
    "from scipy import random, linalg\n",
    "import seaborn as sns\n",
    "\n",
    "matrixSize = 29\n",
    "A = random.rand(matrixSize,matrixSize)\n",
    "B = np.dot(A,A.transpose())\n",
    "\n",
    "\n",
    "df = pd.DataFrame(B, columns=['MA','EMA','MOM','ROC','ATR','BB','PPSR',\n",
    "'STOK','STO','TRIX','ADX','MACD','MassI','Vortex','KST','RSI','TSI','ACCDIST','Chaikin','MFI','OBV','FORCE','EOM','CCI',\n",
    "'COPP','KELCH','ULTOSC','DONCH','STDDEV'])\n",
    "corr = df.corr()\n",
    "\n",
    "sns.heatmap(corr, xticklabels=corr.columns, yticklabels=corr.columns)\n",
    "\n",
    "from pandas.plotting import scatter_matrix\n",
    "scatter_matrix(df,figsize=(15,9),alpha=0.3)\n",
    "\n",
    "# # actual correlation\n",
    "# corr = np.corrcoef(actual_returns, predicted_returns)[0][1]\n",
    "# ax1.scatter(actual_returns, predicted_returns, color='k', marker='o', alpha=0.5, s=100)\n",
    "# ax1.set_title('r = {:.2f}'.format(corr), fontsize=18)\n",
    "\n",
    "# # shifted correlation\n",
    "# shifted_actual = actual_returns[:-1]\n",
    "# shifted_predicted = predicted_returns.shift(-1).dropna()\n",
    "# corr = np.corrcoef(shifted_actual, shifted_predicted)[0][1]\n",
    "# ax2.scatter(shifted_actual, shifted_predicted, color='k', marker='o', alpha=0.5, s=100)\n",
    "# ax2.set_title('r = {:.2f}'.format(corr), fontsize=18);\n",
    "\n",
    "# 'BBANDS','DEMA','EMA','HT_TRENDLINE','KAMA',\n",
    "# 'MA','MAMA','MAVP','MIDPOINT','MIDPRICE','SAR','SAREXT','SMA','T3','TEMA','TRIMA','WMA','ADX','ADXR','APO','AROON',\n",
    "# 'AROONOSC','BOP','CCI','CMO','DX','MACD','MACDEXT','MACDFIX','MFI','MINUS_DI','MINUS_DM','MOM','PLUS_DI','PLUS_DM','PPO',\n",
    "# 'ROC','ROCP','ROCR','ROCR100','RSI','STOCH','STOCHF','STOCHRSI','TRIX','ULTOSC','WILLR','AD','ADOSC','OBV','HT_DCPERIOD',\n",
    "# 'HT_DCPHASE','HT_PHASOR','HT_SINE','HT_TRENDMODE','AVGPRICE','MEDPRICE','TYPPRICE','WCLPRICE','ATR','NATR','TRANGE',\n",
    "# '2CROWS','3BLACKCROWS','3INSIDE','3LINESTRIKE','3OUTSIDE','3STARSINSOUTH','3WHITESOLDIERS','ABANDONEDBABY','ADVANCEBLOCK',\n",
    "# 'BELTHOLD','BREAKAWAY','CLOSINGMARUBOZU','CONCEALBABYSWALL','COUNTERATTACK','DARKCLOUDCOVER','DOJI','DOJISTAR',\n",
    "# 'DRAGONFLYDOJI','ENGULFING','EVENINGDOJISTAR','EVENINGSTAR','GAPSIDESIDEWHITE','GRAVESTONEDOJI','HAMMER','HANGINGMAN',\n",
    "# 'HARAMI','HARAMICROSS','HIGHWAVE','HIKKAKE','HIKKAKEMOD','HOMINGPIGEON','IDENTICAL3CROWS','INNECK','INVERTEDHAMMER',\n",
    "# 'KICKING','KICKINGBYLENGTH','LADDERBOTTOM','LONGLEGGEDDOJI','LONGLINE','MARUBOZU','MATCHINGLOW','MATHOLD',\n",
    "# 'MORNINGDOJISTAR','MORNINGSTAR','ONNECK','PIERCING','RICKSHAWMAN','RISEFALL3METHODS','SEPARATINGLINES','SHOOTINGSTAR',\n",
    "# 'SHORTLINE','SPINNINGTOP','STALLEDPATTERN','STICKSANDWICH','TAKURI','TASUKIGAP','THRUSTING','TRISTAR','UNIQUE3RIVER',\n",
    "# 'UPSIDEGAP2CROWS','XSIDEGAP3METHODS'"
   ]
  },
  {
   "cell_type": "code",
   "execution_count": null,
   "metadata": {},
   "outputs": [],
   "source": []
  }
 ],
 "metadata": {
  "kernelspec": {
   "display_name": "Python 3",
   "language": "python",
   "name": "python3"
  },
  "language_info": {
   "codemirror_mode": {
    "name": "ipython",
    "version": 3
   },
   "file_extension": ".py",
   "mimetype": "text/x-python",
   "name": "python",
   "nbconvert_exporter": "python",
   "pygments_lexer": "ipython3",
   "version": "3.6.4"
  },
  "widgets": {
   "application/vnd.jupyter.widget-state+json": {
    "state": {},
    "version_major": 2.0,
    "version_minor": 0.0
   }
  }
 },
 "nbformat": 4,
 "nbformat_minor": 2
}
